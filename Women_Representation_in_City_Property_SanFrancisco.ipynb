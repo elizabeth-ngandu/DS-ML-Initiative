{
  "nbformat": 4,
  "nbformat_minor": 0,
  "metadata": {
    "colab": {
      "name": "Women Representation in City Property SanFrancisco",
      "provenance": [],
      "collapsed_sections": [],
      "toc_visible": true
    },
    "kernelspec": {
      "name": "python3",
      "display_name": "Python 3"
    }
  },
  "cells": [
    {
      "cell_type": "markdown",
      "metadata": {
        "id": "1CPuOChpNrSs"
      },
      "source": [
        "# **Women Representation in City Property SanFrancisco**"
      ]
    },
    {
      "cell_type": "markdown",
      "metadata": {
        "id": "LbJvq6SSjC3R"
      },
      "source": [
        "\r\n",
        "## Business Understanding"
      ]
    },
    {
      "cell_type": "markdown",
      "metadata": {
        "id": "GUNUsmPRiRVX"
      },
      "source": [
        "In October of 2018, the Board of Supervisors passed and Mayor London N. Breed signed, the Ordinance 243-18 (http://bit.ly/2LSqS3U) to expand the extent to which women are represented in the public sphere, including within artwork, statues, street names, facilities, parks, and more. The representation of women in City-owned buildings includes buildings, conference rooms, clubhouses, museums, recreation centers, community rooms, auditoriums, terminals, departure halls, 7 staircases, rooms, and other places open to the public. The City Administrator's office was responsible for compiling a list of all city owned buildings named after a man or woman. You can read the accompanying report on the representation of women in city property here: http://bit.ly/2YIDCz7"
      ]
    },
    {
      "cell_type": "markdown",
      "metadata": {
        "id": "tOGYdus8ieKy"
      },
      "source": [
        "## Specifying the Data Analytic Question"
      ]
    },
    {
      "cell_type": "markdown",
      "metadata": {
        "id": "J3xf_OFDimfK"
      },
      "source": [
        "Analyze the representation of women in City-owned buildings open to public in SanFrancisco"
      ]
    },
    {
      "cell_type": "markdown",
      "metadata": {
        "id": "gB47exuWhw9t"
      },
      "source": [
        "\r\n",
        "## Reading the data"
      ]
    },
    {
      "cell_type": "code",
      "metadata": {
        "id": "5xdIeNTENomS"
      },
      "source": [
        "#import pandas\r\n",
        "import pandas as pd\r\n",
        "#import numpy\r\n",
        "import numpy as np\r\n",
        "#import matplotlib\r\n",
        "import matplotlib.pyplot as plt\r\n",
        "#import seaborn\r\n",
        "import seaborn as sns"
      ],
      "execution_count": 3,
      "outputs": []
    },
    {
      "cell_type": "code",
      "metadata": {
        "colab": {
          "base_uri": "https://localhost:8080/",
          "height": 391
        },
        "id": "-vHPRFzI4Jki",
        "outputId": "55fb2da8-f055-496f-cf81-37a421780975"
      },
      "source": [
        "#read the dataset and view th first five rows\r\n",
        "df = pd.read_csv('WomenRepresentaionInCityProperty-SanFrancisco.csv')\r\n",
        "df.head()"
      ],
      "execution_count": 4,
      "outputs": [
        {
          "output_type": "execute_result",
          "data": {
            "text/html": [
              "<div>\n",
              "<style scoped>\n",
              "    .dataframe tbody tr th:only-of-type {\n",
              "        vertical-align: middle;\n",
              "    }\n",
              "\n",
              "    .dataframe tbody tr th {\n",
              "        vertical-align: top;\n",
              "    }\n",
              "\n",
              "    .dataframe thead th {\n",
              "        text-align: right;\n",
              "    }\n",
              "</style>\n",
              "<table border=\"1\" class=\"dataframe\">\n",
              "  <thead>\n",
              "    <tr style=\"text-align: right;\">\n",
              "      <th></th>\n",
              "      <th>Department/Source</th>\n",
              "      <th>Name</th>\n",
              "      <th>Person</th>\n",
              "      <th>Gender</th>\n",
              "      <th>Reference</th>\n",
              "      <th>Comments</th>\n",
              "      <th>Current Police Districts</th>\n",
              "      <th>Current Supervisor Districts</th>\n",
              "      <th>Analysis Neighborhoods</th>\n",
              "      <th>Neighborhoods</th>\n",
              "      <th>SF Find Neighborhoods</th>\n",
              "    </tr>\n",
              "  </thead>\n",
              "  <tbody>\n",
              "    <tr>\n",
              "      <th>0</th>\n",
              "      <td>Administrator</td>\n",
              "      <td>MOSCONE CENTER (South)</td>\n",
              "      <td>George R. Moscone</td>\n",
              "      <td>M</td>\n",
              "      <td>City Administrator</td>\n",
              "      <td>NaN</td>\n",
              "      <td>4</td>\n",
              "      <td>10</td>\n",
              "      <td>36</td>\n",
              "      <td>21</td>\n",
              "      <td>21</td>\n",
              "    </tr>\n",
              "    <tr>\n",
              "      <th>1</th>\n",
              "      <td>Administrator</td>\n",
              "      <td>Maxine Hall Health Center</td>\n",
              "      <td>NaN</td>\n",
              "      <td>F</td>\n",
              "      <td>Public Health</td>\n",
              "      <td>NaN</td>\n",
              "      <td>4</td>\n",
              "      <td>10</td>\n",
              "      <td>36</td>\n",
              "      <td>21</td>\n",
              "      <td>21</td>\n",
              "    </tr>\n",
              "    <tr>\n",
              "      <th>2</th>\n",
              "      <td>REC AND PARKS</td>\n",
              "      <td>Moscone Recreation Center</td>\n",
              "      <td>George R. Moscone</td>\n",
              "      <td>M</td>\n",
              "      <td>NaN</td>\n",
              "      <td>park</td>\n",
              "      <td>4</td>\n",
              "      <td>10</td>\n",
              "      <td>36</td>\n",
              "      <td>21</td>\n",
              "      <td>21</td>\n",
              "    </tr>\n",
              "    <tr>\n",
              "      <th>3</th>\n",
              "      <td>REC AND PARKS</td>\n",
              "      <td>Helen Crocker Russell Library of Horticulture,...</td>\n",
              "      <td>Helen Crocker</td>\n",
              "      <td>F</td>\n",
              "      <td>NaN</td>\n",
              "      <td>facilities and other amenities</td>\n",
              "      <td>4</td>\n",
              "      <td>10</td>\n",
              "      <td>36</td>\n",
              "      <td>21</td>\n",
              "      <td>21</td>\n",
              "    </tr>\n",
              "    <tr>\n",
              "      <th>4</th>\n",
              "      <td>REC AND PARKS</td>\n",
              "      <td>Sharon Building,  Golden Gate Park</td>\n",
              "      <td>Sharon Building</td>\n",
              "      <td>M</td>\n",
              "      <td>NaN</td>\n",
              "      <td>facilities and other amenities</td>\n",
              "      <td>4</td>\n",
              "      <td>10</td>\n",
              "      <td>36</td>\n",
              "      <td>21</td>\n",
              "      <td>21</td>\n",
              "    </tr>\n",
              "  </tbody>\n",
              "</table>\n",
              "</div>"
            ],
            "text/plain": [
              "  Department/Source  ... SF Find Neighborhoods\n",
              "0     Administrator  ...                    21\n",
              "1     Administrator  ...                    21\n",
              "2     REC AND PARKS  ...                    21\n",
              "3     REC AND PARKS  ...                    21\n",
              "4     REC AND PARKS  ...                    21\n",
              "\n",
              "[5 rows x 11 columns]"
            ]
          },
          "metadata": {
            "tags": []
          },
          "execution_count": 4
        }
      ]
    },
    {
      "cell_type": "code",
      "metadata": {
        "colab": {
          "base_uri": "https://localhost:8080/",
          "height": 408
        },
        "id": "dhJ5pWSrM5lP",
        "outputId": "e1a947d4-c1c3-4cd8-c49a-faa22b9904ad"
      },
      "source": [
        "#view the last five rows\r\n",
        "df.tail()"
      ],
      "execution_count": 5,
      "outputs": [
        {
          "output_type": "execute_result",
          "data": {
            "text/html": [
              "<div>\n",
              "<style scoped>\n",
              "    .dataframe tbody tr th:only-of-type {\n",
              "        vertical-align: middle;\n",
              "    }\n",
              "\n",
              "    .dataframe tbody tr th {\n",
              "        vertical-align: top;\n",
              "    }\n",
              "\n",
              "    .dataframe thead th {\n",
              "        text-align: right;\n",
              "    }\n",
              "</style>\n",
              "<table border=\"1\" class=\"dataframe\">\n",
              "  <thead>\n",
              "    <tr style=\"text-align: right;\">\n",
              "      <th></th>\n",
              "      <th>Department/Source</th>\n",
              "      <th>Name</th>\n",
              "      <th>Person</th>\n",
              "      <th>Gender</th>\n",
              "      <th>Reference</th>\n",
              "      <th>Comments</th>\n",
              "      <th>Current Police Districts</th>\n",
              "      <th>Current Supervisor Districts</th>\n",
              "      <th>Analysis Neighborhoods</th>\n",
              "      <th>Neighborhoods</th>\n",
              "      <th>SF Find Neighborhoods</th>\n",
              "    </tr>\n",
              "  </thead>\n",
              "  <tbody>\n",
              "    <tr>\n",
              "      <th>77</th>\n",
              "      <td>Administrator</td>\n",
              "      <td>MOSCONE CENTER Parking Garage</td>\n",
              "      <td>George R. Moscone</td>\n",
              "      <td>M</td>\n",
              "      <td>Municipal Transportation Agency</td>\n",
              "      <td>NaN</td>\n",
              "      <td>4</td>\n",
              "      <td>10</td>\n",
              "      <td>36</td>\n",
              "      <td>21</td>\n",
              "      <td>21</td>\n",
              "    </tr>\n",
              "    <tr>\n",
              "      <th>78</th>\n",
              "      <td>RED</td>\n",
              "      <td>City Hall, 2nd Floor, Buck Delventhal Rotunda</td>\n",
              "      <td>Buck Delventhal</td>\n",
              "      <td>M</td>\n",
              "      <td>Longtime Deputy City Attorney</td>\n",
              "      <td>NaN</td>\n",
              "      <td>4</td>\n",
              "      <td>10</td>\n",
              "      <td>36</td>\n",
              "      <td>21</td>\n",
              "      <td>21</td>\n",
              "    </tr>\n",
              "    <tr>\n",
              "      <th>79</th>\n",
              "      <td>PUC</td>\n",
              "      <td>Alex Pitcher Community Room</td>\n",
              "      <td>Alex Pitcher, Jr.</td>\n",
              "      <td>M</td>\n",
              "      <td>NaN</td>\n",
              "      <td>Civil Rights Attorney</td>\n",
              "      <td>4</td>\n",
              "      <td>10</td>\n",
              "      <td>36</td>\n",
              "      <td>21</td>\n",
              "      <td>21</td>\n",
              "    </tr>\n",
              "    <tr>\n",
              "      <th>80</th>\n",
              "      <td>Administrator</td>\n",
              "      <td>Curtis E. Green LRV Facility Annex Bldg</td>\n",
              "      <td>Curtis E. Green</td>\n",
              "      <td>M</td>\n",
              "      <td>Municipal Transportation Agency</td>\n",
              "      <td>NaN</td>\n",
              "      <td>4</td>\n",
              "      <td>10</td>\n",
              "      <td>36</td>\n",
              "      <td>21</td>\n",
              "      <td>21</td>\n",
              "    </tr>\n",
              "    <tr>\n",
              "      <th>81</th>\n",
              "      <td>Administrator</td>\n",
              "      <td>Bill Graham Civic Auditorium</td>\n",
              "      <td>Bill Graham</td>\n",
              "      <td>M</td>\n",
              "      <td>City Administrator</td>\n",
              "      <td>NaN</td>\n",
              "      <td>4</td>\n",
              "      <td>10</td>\n",
              "      <td>36</td>\n",
              "      <td>21</td>\n",
              "      <td>21</td>\n",
              "    </tr>\n",
              "  </tbody>\n",
              "</table>\n",
              "</div>"
            ],
            "text/plain": [
              "   Department/Source  ... SF Find Neighborhoods\n",
              "77     Administrator  ...                    21\n",
              "78               RED  ...                    21\n",
              "79               PUC  ...                    21\n",
              "80     Administrator  ...                    21\n",
              "81     Administrator  ...                    21\n",
              "\n",
              "[5 rows x 11 columns]"
            ]
          },
          "metadata": {
            "tags": []
          },
          "execution_count": 5
        }
      ]
    },
    {
      "cell_type": "markdown",
      "metadata": {
        "id": "Cjp3kKEJN1AR"
      },
      "source": [
        "## Checking the data"
      ]
    },
    {
      "cell_type": "code",
      "metadata": {
        "colab": {
          "base_uri": "https://localhost:8080/"
        },
        "id": "DDHYK6ceIkZw",
        "outputId": "8a8fc3f4-ecb8-4c28-b55a-2804137c73b1"
      },
      "source": [
        "#rows and columns\r\n",
        "df.shape"
      ],
      "execution_count": 6,
      "outputs": [
        {
          "output_type": "execute_result",
          "data": {
            "text/plain": [
              "(82, 11)"
            ]
          },
          "metadata": {
            "tags": []
          },
          "execution_count": 6
        }
      ]
    },
    {
      "cell_type": "code",
      "metadata": {
        "colab": {
          "base_uri": "https://localhost:8080/"
        },
        "id": "W8ioTsxlIoYl",
        "outputId": "b0dc06ad-433b-4ce7-d9d3-dbfaef218568"
      },
      "source": [
        "#columns in the dataset\r\n",
        "column_names= df.columns\r\n",
        "column_names"
      ],
      "execution_count": 7,
      "outputs": [
        {
          "output_type": "execute_result",
          "data": {
            "text/plain": [
              "Index(['Department/Source', 'Name', 'Person', 'Gender', 'Reference',\n",
              "       'Comments', 'Current Police Districts', 'Current Supervisor Districts',\n",
              "       'Analysis Neighborhoods', 'Neighborhoods', 'SF Find Neighborhoods'],\n",
              "      dtype='object')"
            ]
          },
          "metadata": {
            "tags": []
          },
          "execution_count": 7
        }
      ]
    },
    {
      "cell_type": "code",
      "metadata": {
        "colab": {
          "base_uri": "https://localhost:8080/"
        },
        "id": "2MMoRXpOK8Nb",
        "outputId": "2d1a71eb-01e8-4968-d5ff-3ce4d3454981"
      },
      "source": [
        "#dataset information\r\n",
        "df.info"
      ],
      "execution_count": 8,
      "outputs": [
        {
          "output_type": "execute_result",
          "data": {
            "text/plain": [
              "<bound method DataFrame.info of    Department/Source  ... SF Find Neighborhoods\n",
              "0      Administrator  ...                    21\n",
              "1      Administrator  ...                    21\n",
              "2      REC AND PARKS  ...                    21\n",
              "3      REC AND PARKS  ...                    21\n",
              "4      REC AND PARKS  ...                    21\n",
              "..               ...  ...                   ...\n",
              "77     Administrator  ...                    21\n",
              "78               RED  ...                    21\n",
              "79               PUC  ...                    21\n",
              "80     Administrator  ...                    21\n",
              "81     Administrator  ...                    21\n",
              "\n",
              "[82 rows x 11 columns]>"
            ]
          },
          "metadata": {
            "tags": []
          },
          "execution_count": 8
        }
      ]
    },
    {
      "cell_type": "code",
      "metadata": {
        "colab": {
          "base_uri": "https://localhost:8080/"
        },
        "id": "m-yYIBNoK_KJ",
        "outputId": "ec9179bc-75b7-4deb-8cd8-6cd7146504f5"
      },
      "source": [
        "#datatypes of the columns\r\n",
        "df.dtypes"
      ],
      "execution_count": 9,
      "outputs": [
        {
          "output_type": "execute_result",
          "data": {
            "text/plain": [
              "Department/Source               object\n",
              "Name                            object\n",
              "Person                          object\n",
              "Gender                          object\n",
              "Reference                       object\n",
              "Comments                        object\n",
              "Current Police Districts         int64\n",
              "Current Supervisor Districts     int64\n",
              "Analysis Neighborhoods           int64\n",
              "Neighborhoods                    int64\n",
              "SF Find Neighborhoods            int64\n",
              "dtype: object"
            ]
          },
          "metadata": {
            "tags": []
          },
          "execution_count": 9
        }
      ]
    },
    {
      "cell_type": "code",
      "metadata": {
        "colab": {
          "base_uri": "https://localhost:8080/"
        },
        "id": "-tNuTVxvLEmx",
        "outputId": "e06af957-35d8-4da3-86ab-1f64ef308bbb"
      },
      "source": [
        "#diplaying the unique values of columns\r\n",
        "for column in column_names:\r\n",
        "  print(column)\r\n",
        "  print(df[column].nunique())\r\n",
        "  print(df[column].unique())\r\n",
        "  print('...........................................................')"
      ],
      "execution_count": 10,
      "outputs": [
        {
          "output_type": "stream",
          "text": [
            "Department/Source\n",
            "8\n",
            "['Administrator' 'REC AND PARKS' 'AIRPORT' 'PUC' 'LIBRARY' 'SFMTA' 'Port'\n",
            " 'RED']\n",
            "...........................................................\n",
            "Name\n",
            "82\n",
            "['MOSCONE CENTER (South)' 'Maxine Hall Health Center'\n",
            " 'Moscone Recreation Center'\n",
            " 'Helen Crocker Russell Library of Horticulture, Golden Gate Park'\n",
            " 'Sharon Building,  Golden Gate Park'\n",
            " 'Priscilla Chan and Mark Zuckerberg San Francisco General Hospital and Trauma Center'\n",
            " 'Fay Park Garage' 'Minnie & Lovie Ward Recreation Center'\n",
            " 'Stanford Chlorine Plant' 'Berman Reflection Room'\n",
            " 'De Young Museum,  Golden Gate Park'\n",
            " 'Lou Spadia Clubhouse, Jackson Playground'\n",
            " 'Betty Ann Ong Chinese Recreation Center'\n",
            " 'Curtis E. Green LRV Facility Geneva Site' 'Wattis Founders Room'\n",
            " 'O’Shaughnessy CONF ROOM'\n",
            " 'Eureka Valley Branch Library/ Harvey Milk Memorial Branch Library'\n",
            " 'Richmond/Senator Milton Marks Branch Library'\n",
            " 'Elsa Strait Room, Eureka Valley Recreation Center'\n",
            " \"Elizabeth Murray Performers'  Lounge\" 'H. WELTON FLYNN DIV.'\n",
            " 'Mary Margaret Casey Recreation Building, Sunnyside Playground'\n",
            " 'Flynn Tire Shop' 'Scott Garage' 'Tom Waddell Health Clinic'\n",
            " 'SFO International Terminal Departure Hall - Mayor Edwin M. Lee'\n",
            " 'Charlotte and George Shultz Horseshoe Drive'\n",
            " 'James R. Herman Cruise Terminal at Pier 27'\n",
            " 'The Board of Supervisors Committee Room 263'\n",
            " 'Grand Staircase in the Rotunda' 'Walter and Elise Haas Grand Lounge'\n",
            " 'Harvey Milk Center for Recreational Arts, Duboce Park'\n",
            " 'Anna E. Waden Branch Library (Bayview)- Bayview Linda Brooks-Burton Branch Library'\n",
            " 'JASON G. YUEN ARCHITECTURE & ENGINEERING BUILDING - 676'\n",
            " 'Syncip Family Conference Room' 'Harry Tracy Water Filtration'\n",
            " 'Gene Friend Recreation Center' 'John M. Bryan Education Studio'\n",
            " 'Harvey Milk Terminal  - Terminal 1'\n",
            " 'Harold L. Zellerbach Rehearsal Hall' 'Ella Hill Hutch Community Center'\n",
            " 'Mary Louise Strong Conference Room' 'Moscone West'\n",
            " 'Frank Tatum Clubhouse' 'J. Woods Cable Car Carpentry Shop'\n",
            " 'Balboa Reservoir' 'Moscone Esplanade Ballroom'\n",
            " 'McLaren Lodge,  Golden Gate Park'\n",
            " 'Bayview Opera House Ruth Williams Memorial Theater'\n",
            " 'Pier 52 Boat Launch - Corrine Woods' 'J.M. Woods Div-Wash/Warehouse'\n",
            " 'Curry Senior Center' 'De Young Museum'\n",
            " 'Chinatown/Him Mark Lai Branch Library' 'Flynn Pumping Station'\n",
            " 'Richard Gamble open space at the west end of the Sunset Tunnel'\n",
            " 'Koret Auditorium' 'Cameron Beach Yard'\n",
            " 'Veterans Building - Herbst Theater' 'Joseph Lee Recreation Center'\n",
            " 'Mark Bingham Gym, Eureka Recreation Center'\n",
            " 'Jeannik Mequet Littlefield Intermezzo Lounge'\n",
            " 'Thomas J. Cahill Hall of Justice' 'M. L. King Childcare Center'\n",
            " 'Fulton Conference Room' 'Dianne and Tab Taube Atrium Theatre'\n",
            " 'Thelma and Henry Doelger Primate Discovery Center, SF Zoo'\n",
            " 'Louis M. Davies Symphony Hall' 'Martin Paley Conference Room'\n",
            " 'Sojourner Truth Child Center' 'J.M. Woods Div-Operators'\n",
            " '(Josephine Dow) Randall Museum' 'Diane B. Wilsey Center for Opera'\n",
            " 'Brooks Hall' 'Noe Valley / Sally Brunn Branch Library'\n",
            " \"Fire Chief's Residence\" 'MOSCONE NORTH' 'MOSCONE CENTER Parking Garage'\n",
            " 'City Hall, 2nd Floor, Buck Delventhal Rotunda'\n",
            " 'Alex Pitcher Community Room' 'Curtis E. Green LRV Facility Annex Bldg'\n",
            " 'Bill Graham Civic Auditorium']\n",
            "...........................................................\n",
            "Person\n",
            "69\n",
            "['George R. Moscone' nan 'Helen Crocker' 'Sharon Building'\n",
            " 'Priscilla Chan and Mark Zuckerberg' 'Mary Fay Berrigan'\n",
            " 'Minnie & Lovie Ward' 'Leland Stanford, Jr.' 'Henry Berman'\n",
            " 'M. H. de Young' 'Lou Spadia' 'Betty Ann Ong' 'Curtis E. Green'\n",
            " 'Phyllis C. Wattis' 'Michael O’Shaughnessy' 'Harvey Milk'\n",
            " 'Senator Milton Marks' 'Elsa Strait' 'Elizabeth Murray' 'H. Welton Flynn'\n",
            " 'Mary Margaret' 'William H. Scott' 'Tom Waddell' 'Edwin M. Lee'\n",
            " 'Charlotte and George Shultz' 'James R. Herman' 'John L. Taylor'\n",
            " 'Charlotte Maillard Shultz,' 'Walter and Elise Hass' 'Anna E. Waden'\n",
            " 'Jason G. Yuen' 'Syncip Family' 'Harry Tracy' 'Gene Friend'\n",
            " 'John M. Bryan' 'Harold L. Zellerbach' 'Ella Hill Hutch'\n",
            " 'Mary Louise Strong' 'Frank Tatum' 'J. M. Woods' 'Vasco Nύnez de Balboa'\n",
            " 'McLaren Lodge' 'Ruth Williams' 'Corrine Woods' 'Francis J. Curry, M.D.'\n",
            " 'Him Mark Lai' 'Bruce Flynn' 'Richard Gamble' 'Koret (Family?)'\n",
            " 'Cameron Beach, Transit board member' 'Herman and Maurice Herbst'\n",
            " 'Joseph Lee' 'Mark Bingham' 'Jeannik Mequet Littlefield'\n",
            " 'Thomas J. Cahill' 'Martin Luther King' 'Fulton (family?)'\n",
            " 'Dianne and Tab Taube' 'Thelma and Henry Doelger' 'Louis M. Davies'\n",
            " 'Martin Paley' 'Sojourner Truth' 'Josephine Dow' 'Diane B. Wilsey'\n",
            " 'Thomas A. Brooks' 'Sally Brunn' 'Dennis T. Sullivan' 'Buck Delventhal'\n",
            " 'Alex Pitcher, Jr.' 'Bill Graham']\n",
            "...........................................................\n",
            "Gender\n",
            "5\n",
            "['M' 'F' 'F & M' 'M & F' 'M & M']\n",
            "...........................................................\n",
            "Reference\n",
            "21\n",
            "['City Administrator' 'Public Health' nan\n",
            " 'Municipal Transportation Agency' 'Public Utilities Commission'\n",
            " 'Airport Commission President' 'Newspaper' 'Davies Symphony Hall'\n",
            " 'Public Library' 'Veterans Building'\n",
            " \"General Manager of San Francisco's Municipal Railway in its most difficult period\"\n",
            " 'Airport (Sfo)' 'War Memorial Opera House' 'Port'\n",
            " 'Clerk to the Board of Supervisors' 'Zellerbach Rehearsal Hall'\n",
            " 'Harding Golf Course' 'Arts Commission' 'Fine Arts Museums'\n",
            " 'Public Works' 'Fire Department' 'Longtime Deputy City Attorney']\n",
            "...........................................................\n",
            "Comments\n",
            "13\n",
            "[nan 'park' 'facilities and other amenities'\n",
            " 'Civil Engineer, Developed Hetch-Hetchy Water System' 'Library'\n",
            " 'Different name in SF Data' 'Mayor'\n",
            " '2010 - Chief of Protocol for the City and County of San Francisco (and the State of California)'\n",
            " '4th floor' '1st floor main library' 'Not in SF Data' 'Family'\n",
            " 'main library 3rd Floor' 'Civil Rights Attorney']\n",
            "...........................................................\n",
            "Current Police Districts\n",
            "1\n",
            "[4]\n",
            "...........................................................\n",
            "Current Supervisor Districts\n",
            "1\n",
            "[10]\n",
            "...........................................................\n",
            "Analysis Neighborhoods\n",
            "1\n",
            "[36]\n",
            "...........................................................\n",
            "Neighborhoods\n",
            "1\n",
            "[21]\n",
            "...........................................................\n",
            "SF Find Neighborhoods\n",
            "1\n",
            "[21]\n",
            "...........................................................\n"
          ],
          "name": "stdout"
        }
      ]
    },
    {
      "cell_type": "code",
      "metadata": {
        "colab": {
          "base_uri": "https://localhost:8080/"
        },
        "id": "0XvF11a7jKU1",
        "outputId": "33de595f-603e-4f15-f287-25e37ce20aaf"
      },
      "source": [
        "#identifying the columns with numerical data\r\n",
        "df._get_numeric_data().columns"
      ],
      "execution_count": 11,
      "outputs": [
        {
          "output_type": "execute_result",
          "data": {
            "text/plain": [
              "Index(['Current Police Districts', 'Current Supervisor Districts',\n",
              "       'Analysis Neighborhoods', 'Neighborhoods', 'SF Find Neighborhoods'],\n",
              "      dtype='object')"
            ]
          },
          "metadata": {
            "tags": []
          },
          "execution_count": 11
        }
      ]
    },
    {
      "cell_type": "code",
      "metadata": {
        "colab": {
          "base_uri": "https://localhost:8080/",
          "height": 297
        },
        "id": "aPEfoXxmRvtn",
        "outputId": "2c961f70-7557-4aea-c9ef-bc89801ba513"
      },
      "source": [
        "#statistical  description of the dataset\r\n",
        "df.describe()"
      ],
      "execution_count": 12,
      "outputs": [
        {
          "output_type": "execute_result",
          "data": {
            "text/html": [
              "<div>\n",
              "<style scoped>\n",
              "    .dataframe tbody tr th:only-of-type {\n",
              "        vertical-align: middle;\n",
              "    }\n",
              "\n",
              "    .dataframe tbody tr th {\n",
              "        vertical-align: top;\n",
              "    }\n",
              "\n",
              "    .dataframe thead th {\n",
              "        text-align: right;\n",
              "    }\n",
              "</style>\n",
              "<table border=\"1\" class=\"dataframe\">\n",
              "  <thead>\n",
              "    <tr style=\"text-align: right;\">\n",
              "      <th></th>\n",
              "      <th>Current Police Districts</th>\n",
              "      <th>Current Supervisor Districts</th>\n",
              "      <th>Analysis Neighborhoods</th>\n",
              "      <th>Neighborhoods</th>\n",
              "      <th>SF Find Neighborhoods</th>\n",
              "    </tr>\n",
              "  </thead>\n",
              "  <tbody>\n",
              "    <tr>\n",
              "      <th>count</th>\n",
              "      <td>82.0</td>\n",
              "      <td>82.0</td>\n",
              "      <td>82.0</td>\n",
              "      <td>82.0</td>\n",
              "      <td>82.0</td>\n",
              "    </tr>\n",
              "    <tr>\n",
              "      <th>mean</th>\n",
              "      <td>4.0</td>\n",
              "      <td>10.0</td>\n",
              "      <td>36.0</td>\n",
              "      <td>21.0</td>\n",
              "      <td>21.0</td>\n",
              "    </tr>\n",
              "    <tr>\n",
              "      <th>std</th>\n",
              "      <td>0.0</td>\n",
              "      <td>0.0</td>\n",
              "      <td>0.0</td>\n",
              "      <td>0.0</td>\n",
              "      <td>0.0</td>\n",
              "    </tr>\n",
              "    <tr>\n",
              "      <th>min</th>\n",
              "      <td>4.0</td>\n",
              "      <td>10.0</td>\n",
              "      <td>36.0</td>\n",
              "      <td>21.0</td>\n",
              "      <td>21.0</td>\n",
              "    </tr>\n",
              "    <tr>\n",
              "      <th>25%</th>\n",
              "      <td>4.0</td>\n",
              "      <td>10.0</td>\n",
              "      <td>36.0</td>\n",
              "      <td>21.0</td>\n",
              "      <td>21.0</td>\n",
              "    </tr>\n",
              "    <tr>\n",
              "      <th>50%</th>\n",
              "      <td>4.0</td>\n",
              "      <td>10.0</td>\n",
              "      <td>36.0</td>\n",
              "      <td>21.0</td>\n",
              "      <td>21.0</td>\n",
              "    </tr>\n",
              "    <tr>\n",
              "      <th>75%</th>\n",
              "      <td>4.0</td>\n",
              "      <td>10.0</td>\n",
              "      <td>36.0</td>\n",
              "      <td>21.0</td>\n",
              "      <td>21.0</td>\n",
              "    </tr>\n",
              "    <tr>\n",
              "      <th>max</th>\n",
              "      <td>4.0</td>\n",
              "      <td>10.0</td>\n",
              "      <td>36.0</td>\n",
              "      <td>21.0</td>\n",
              "      <td>21.0</td>\n",
              "    </tr>\n",
              "  </tbody>\n",
              "</table>\n",
              "</div>"
            ],
            "text/plain": [
              "       Current Police Districts  ...  SF Find Neighborhoods\n",
              "count                      82.0  ...                   82.0\n",
              "mean                        4.0  ...                   21.0\n",
              "std                         0.0  ...                    0.0\n",
              "min                         4.0  ...                   21.0\n",
              "25%                         4.0  ...                   21.0\n",
              "50%                         4.0  ...                   21.0\n",
              "75%                         4.0  ...                   21.0\n",
              "max                         4.0  ...                   21.0\n",
              "\n",
              "[8 rows x 5 columns]"
            ]
          },
          "metadata": {
            "tags": []
          },
          "execution_count": 12
        }
      ]
    },
    {
      "cell_type": "markdown",
      "metadata": {
        "id": "NSYKTOOON54X"
      },
      "source": [
        "## Tidying the dataset"
      ]
    },
    {
      "cell_type": "code",
      "metadata": {
        "colab": {
          "base_uri": "https://localhost:8080/"
        },
        "id": "UxdNt0eONfwI",
        "outputId": "db750bbb-b388-4ac6-b6fc-7dbcf85442e8"
      },
      "source": [
        "#checking the sum of the duplicated rows\r\n",
        "sum(df.duplicated())"
      ],
      "execution_count": 13,
      "outputs": [
        {
          "output_type": "execute_result",
          "data": {
            "text/plain": [
              "0"
            ]
          },
          "metadata": {
            "tags": []
          },
          "execution_count": 13
        }
      ]
    },
    {
      "cell_type": "code",
      "metadata": {
        "colab": {
          "base_uri": "https://localhost:8080/"
        },
        "id": "b4Mcz_EFOyDr",
        "outputId": "19c7ec56-a2dc-4be0-eb7a-fc8fb8d41051"
      },
      "source": [
        "#checking for null values\r\n",
        "df.isnull().sum()"
      ],
      "execution_count": 14,
      "outputs": [
        {
          "output_type": "execute_result",
          "data": {
            "text/plain": [
              "Department/Source                0\n",
              "Name                             0\n",
              "Person                           1\n",
              "Gender                           0\n",
              "Reference                       28\n",
              "Comments                        50\n",
              "Current Police Districts         0\n",
              "Current Supervisor Districts     0\n",
              "Analysis Neighborhoods           0\n",
              "Neighborhoods                    0\n",
              "SF Find Neighborhoods            0\n",
              "dtype: int64"
            ]
          },
          "metadata": {
            "tags": []
          },
          "execution_count": 14
        }
      ]
    },
    {
      "cell_type": "markdown",
      "metadata": {
        "id": "BjxvS4TQMoB5"
      },
      "source": [
        "Column Person, reference and comments have null values but since we are not creating any model, we are going to work with it the way it is. Again, removing the null values will reduce the amount of data significantly"
      ]
    },
    {
      "cell_type": "markdown",
      "metadata": {
        "id": "1R_ouFwSSLNa"
      },
      "source": [
        "# Exploratory Data Analysis"
      ]
    },
    {
      "cell_type": "markdown",
      "metadata": {
        "id": "2MxDC6mrNZFX"
      },
      "source": [
        "## Univariate Analysis"
      ]
    },
    {
      "cell_type": "code",
      "metadata": {
        "colab": {
          "base_uri": "https://localhost:8080/",
          "height": 297
        },
        "id": "WJGNRyzMRD8a",
        "outputId": "c70fbd57-8ac4-45c6-abc4-f5588b4024d7"
      },
      "source": [
        "#statistical analysis eg the mean, count, standard deviation etc\r\n",
        "df.describe()"
      ],
      "execution_count": 16,
      "outputs": [
        {
          "output_type": "execute_result",
          "data": {
            "text/html": [
              "<div>\n",
              "<style scoped>\n",
              "    .dataframe tbody tr th:only-of-type {\n",
              "        vertical-align: middle;\n",
              "    }\n",
              "\n",
              "    .dataframe tbody tr th {\n",
              "        vertical-align: top;\n",
              "    }\n",
              "\n",
              "    .dataframe thead th {\n",
              "        text-align: right;\n",
              "    }\n",
              "</style>\n",
              "<table border=\"1\" class=\"dataframe\">\n",
              "  <thead>\n",
              "    <tr style=\"text-align: right;\">\n",
              "      <th></th>\n",
              "      <th>Current Police Districts</th>\n",
              "      <th>Current Supervisor Districts</th>\n",
              "      <th>Analysis Neighborhoods</th>\n",
              "      <th>Neighborhoods</th>\n",
              "      <th>SF Find Neighborhoods</th>\n",
              "    </tr>\n",
              "  </thead>\n",
              "  <tbody>\n",
              "    <tr>\n",
              "      <th>count</th>\n",
              "      <td>82.0</td>\n",
              "      <td>82.0</td>\n",
              "      <td>82.0</td>\n",
              "      <td>82.0</td>\n",
              "      <td>82.0</td>\n",
              "    </tr>\n",
              "    <tr>\n",
              "      <th>mean</th>\n",
              "      <td>4.0</td>\n",
              "      <td>10.0</td>\n",
              "      <td>36.0</td>\n",
              "      <td>21.0</td>\n",
              "      <td>21.0</td>\n",
              "    </tr>\n",
              "    <tr>\n",
              "      <th>std</th>\n",
              "      <td>0.0</td>\n",
              "      <td>0.0</td>\n",
              "      <td>0.0</td>\n",
              "      <td>0.0</td>\n",
              "      <td>0.0</td>\n",
              "    </tr>\n",
              "    <tr>\n",
              "      <th>min</th>\n",
              "      <td>4.0</td>\n",
              "      <td>10.0</td>\n",
              "      <td>36.0</td>\n",
              "      <td>21.0</td>\n",
              "      <td>21.0</td>\n",
              "    </tr>\n",
              "    <tr>\n",
              "      <th>25%</th>\n",
              "      <td>4.0</td>\n",
              "      <td>10.0</td>\n",
              "      <td>36.0</td>\n",
              "      <td>21.0</td>\n",
              "      <td>21.0</td>\n",
              "    </tr>\n",
              "    <tr>\n",
              "      <th>50%</th>\n",
              "      <td>4.0</td>\n",
              "      <td>10.0</td>\n",
              "      <td>36.0</td>\n",
              "      <td>21.0</td>\n",
              "      <td>21.0</td>\n",
              "    </tr>\n",
              "    <tr>\n",
              "      <th>75%</th>\n",
              "      <td>4.0</td>\n",
              "      <td>10.0</td>\n",
              "      <td>36.0</td>\n",
              "      <td>21.0</td>\n",
              "      <td>21.0</td>\n",
              "    </tr>\n",
              "    <tr>\n",
              "      <th>max</th>\n",
              "      <td>4.0</td>\n",
              "      <td>10.0</td>\n",
              "      <td>36.0</td>\n",
              "      <td>21.0</td>\n",
              "      <td>21.0</td>\n",
              "    </tr>\n",
              "  </tbody>\n",
              "</table>\n",
              "</div>"
            ],
            "text/plain": [
              "       Current Police Districts  ...  SF Find Neighborhoods\n",
              "count                      82.0  ...                   82.0\n",
              "mean                        4.0  ...                   21.0\n",
              "std                         0.0  ...                    0.0\n",
              "min                         4.0  ...                   21.0\n",
              "25%                         4.0  ...                   21.0\n",
              "50%                         4.0  ...                   21.0\n",
              "75%                         4.0  ...                   21.0\n",
              "max                         4.0  ...                   21.0\n",
              "\n",
              "[8 rows x 5 columns]"
            ]
          },
          "metadata": {
            "tags": []
          },
          "execution_count": 16
        }
      ]
    },
    {
      "cell_type": "code",
      "metadata": {
        "colab": {
          "base_uri": "https://localhost:8080/",
          "height": 367
        },
        "id": "8hlT2YCzjx_7",
        "outputId": "02281de0-1630-4175-8e12-fcdd27b2c9a2"
      },
      "source": [
        "#Count plot for department column\r\n",
        "ax = sns.countplot(x=\"Department/Source\", data=df, palette = 'Set3')\r\n",
        "plt.xticks(rotation=90)\r\n",
        "ax.set_title('Count Plot For Department Column', fontsize=14)\r\n",
        "plt.show()\r\n"
      ],
      "execution_count": 18,
      "outputs": [
        {
          "output_type": "display_data",
          "data": {
            "image/png": "[encoded data removed]",
            "text/plain": [
              "<Figure size 432x288 with 1 Axes>"
            ]
          },
          "metadata": {
            "tags": [],
            "needs_background": "light"
          }
        }
      ]
    },
    {
      "cell_type": "code",
      "metadata": {
        "colab": {
          "base_uri": "https://localhost:8080/",
          "height": 456
        },
        "id": "859BFUo7clXY",
        "outputId": "5111ebb3-3c32-4176-950d-3c90ef4ab2b1"
      },
      "source": [
        "#Count plot for reference column\r\n",
        "fig = plt.figure(figsize = (9,7))\r\n",
        "ax = sns.countplot(y=\"Reference\", data=df, palette = 'Set3')\r\n",
        "plt.xticks(rotation=90)\r\n",
        "ax.set_title('Count Plot For Reference Column', fontsize=14)\r\n",
        "plt.show()"
      ],
      "execution_count": 96,
      "outputs": [
        {
          "output_type": "display_data",
          "data": {
            "image/png": "[encoded data removed]",
            "text/plain": [
              "<Figure size 648x504 with 1 Axes>"
            ]
          },
          "metadata": {
            "tags": [],
            "needs_background": "light"
          }
        }
      ]
    },
    {
      "cell_type": "markdown",
      "metadata": {
        "id": "S1nXVssOdCRD"
      },
      "source": [
        "Municipal Transportation Agency has majority of the buildings, followed by City Administrator\r\n",
        "\r\n"
      ]
    },
    {
      "cell_type": "code",
      "metadata": {
        "colab": {
          "base_uri": "https://localhost:8080/",
          "height": 321
        },
        "id": "VUXEqut9mgMv",
        "outputId": "4ad5974f-e9e5-41bc-806d-50ac4f343b46"
      },
      "source": [
        "\r\n",
        "#pie chart shwoing the distribution of gender in the dataset\r\n",
        "pie, ax = plt.subplots(figsize = [5,5])\r\n",
        "x=np.array(df['Gender'].value_counts())\r\n",
        "labels = df['Gender'].value_counts().keys()\r\n",
        "plt.pie( x = x, labels= labels,  autopct= \"%.1f%%\")\r\n",
        "plt.title('Gender distribution', fontsize = 15)\r\n",
        "plt.legend()\r\n",
        "plt.show()\r\n"
      ],
      "execution_count": 63,
      "outputs": [
        {
          "output_type": "display_data",
          "data": {
            "image/png": "[encoded data removed]",
            "text/plain": [
              "<Figure size 360x360 with 1 Axes>"
            ]
          },
          "metadata": {
            "tags": []
          }
        }
      ]
    },
    {
      "cell_type": "markdown",
      "metadata": {
        "id": "1gA2o2BEugnr"
      },
      "source": [
        "* male names are mostly used to name building accounting for 64.6 % of the building names"
      ]
    },
    {
      "cell_type": "code",
      "metadata": {
        "colab": {
          "base_uri": "https://localhost:8080/",
          "height": 297
        },
        "id": "lMJSTmRYZ4q1",
        "outputId": "df5a19af-6c15-44ca-9499-cba97031847f"
      },
      "source": [
        "#count plot for the gender column\r\n",
        "ax = sns.countplot(x=\"Gender\", data=df,palette = 'Set3')\r\n",
        "plt.xticks(rotation=90)\r\n",
        "ax.set_title('Count Plot For Gender Column', fontsize=14)\r\n",
        "plt.tight_layout()"
      ],
      "execution_count": 21,
      "outputs": [
        {
          "output_type": "display_data",
          "data": {
            "image/png": "[encoded data removed]",
            "text/plain": [
              "<Figure size 432x288 with 1 Axes>"
            ]
          },
          "metadata": {
            "tags": [],
            "needs_background": "light"
          }
        }
      ]
    },
    {
      "cell_type": "code",
      "metadata": {
        "colab": {
          "base_uri": "https://localhost:8080/"
        },
        "id": "2wxOutdlOvcB",
        "outputId": "d0d65210-912f-49bc-bc5c-5821c110694e"
      },
      "source": [
        "#replace 'M & M' with 'M' since facilitiy is named after the male gender\r\n",
        "df1 =df[(df['Gender']!='F & M') & (df['Gender']!='M & F')]\r\n",
        "df1[\"Gender\"].value_counts()"
      ],
      "execution_count": 32,
      "outputs": [
        {
          "output_type": "execute_result",
          "data": {
            "text/plain": [
              "M        53\n",
              "F        19\n",
              "M & M     1\n",
              "Name: Gender, dtype: int64"
            ]
          },
          "metadata": {
            "tags": []
          },
          "execution_count": 32
        }
      ]
    },
    {
      "cell_type": "code",
      "metadata": {
        "colab": {
          "base_uri": "https://localhost:8080/",
          "height": 111
        },
        "id": "vdossB2EOw_Q",
        "outputId": "b711601d-b9ba-45d2-8ad4-61209ed575ea"
      },
      "source": [
        "#croscheck  to see if the replacement has been effected\r\n",
        "df2 = df1.replace({\"Gender\":{'M & M' : 'M'}})\r\n",
        "gender =df2['Gender'].value_counts()\r\n",
        "gender_df = gender.to_frame()\r\n",
        "gender_df"
      ],
      "execution_count": 51,
      "outputs": [
        {
          "output_type": "execute_result",
          "data": {
            "text/html": [
              "<div>\n",
              "<style scoped>\n",
              "    .dataframe tbody tr th:only-of-type {\n",
              "        vertical-align: middle;\n",
              "    }\n",
              "\n",
              "    .dataframe tbody tr th {\n",
              "        vertical-align: top;\n",
              "    }\n",
              "\n",
              "    .dataframe thead th {\n",
              "        text-align: right;\n",
              "    }\n",
              "</style>\n",
              "<table border=\"1\" class=\"dataframe\">\n",
              "  <thead>\n",
              "    <tr style=\"text-align: right;\">\n",
              "      <th></th>\n",
              "      <th>Gender</th>\n",
              "    </tr>\n",
              "  </thead>\n",
              "  <tbody>\n",
              "    <tr>\n",
              "      <th>M</th>\n",
              "      <td>54</td>\n",
              "    </tr>\n",
              "    <tr>\n",
              "      <th>F</th>\n",
              "      <td>19</td>\n",
              "    </tr>\n",
              "  </tbody>\n",
              "</table>\n",
              "</div>"
            ],
            "text/plain": [
              "   Gender\n",
              "M      54\n",
              "F      19"
            ]
          },
          "metadata": {
            "tags": []
          },
          "execution_count": 51
        }
      ]
    },
    {
      "cell_type": "code",
      "metadata": {
        "colab": {
          "base_uri": "https://localhost:8080/",
          "height": 277
        },
        "id": "o4efxajaO0ZK",
        "outputId": "0efa9d93-bfd1-44b7-d50f-ed0c9f3a56a9"
      },
      "source": [
        "gender_df.plot(kind = 'pie', autopct='%1.1f%%', colormap = 'Set3', title = 'Gender Distribution', subplots = True )\r\n",
        "plt.show()"
      ],
      "execution_count": 69,
      "outputs": [
        {
          "output_type": "display_data",
          "data": {
            "image/png": "[encoded data removed]",
            "text/plain": [
              "<Figure size 432x288 with 1 Axes>"
            ]
          },
          "metadata": {
            "tags": []
          }
        }
      ]
    },
    {
      "cell_type": "markdown",
      "metadata": {
        "id": "cJEInpxIYOA9"
      },
      "source": [
        "this shows a very huge disparity between gender"
      ]
    },
    {
      "cell_type": "markdown",
      "metadata": {
        "id": "lWJ8w0JuOYIe"
      },
      "source": [
        "## Bivariate  Analysis"
      ]
    },
    {
      "cell_type": "code",
      "metadata": {
        "colab": {
          "base_uri": "https://localhost:8080/",
          "height": 350
        },
        "id": "YMjJ4YB5VgkE",
        "outputId": "7ed346e0-a851-4d46-eeea-a2b3081617df"
      },
      "source": [
        "#how the gender is distributed in the department\r\n",
        "sns.countplot(x = \"Department/Source\", hue = \"Gender\", data = df, palette= 'Set3')\r\n",
        "plt.xticks(rotation = 90)\r\n",
        "plt.legend(loc = 'upper right')\r\n",
        "plt.show()\r\n"
      ],
      "execution_count": 22,
      "outputs": [
        {
          "output_type": "display_data",
          "data": {
            "image/png": "[encoded data removed]",
            "text/plain": [
              "<Figure size 432x288 with 1 Axes>"
            ]
          },
          "metadata": {
            "tags": [],
            "needs_background": "light"
          }
        }
      ]
    },
    {
      "cell_type": "markdown",
      "metadata": {
        "id": "RmcX8C4nX1u6"
      },
      "source": [
        "* There is gender equality in Port Department\r\n",
        "* There is a very high gender disparity in the Administrator department\r\n",
        "* Airport, PUC an SFMTA do not have females\r\n",
        "\r\n",
        "\r\n"
      ]
    },
    {
      "cell_type": "markdown",
      "metadata": {
        "id": "dOQWJcCialWW"
      },
      "source": [
        "The gender column has entries with multiple people whose names have bee used. Our main question for the analysis is to analyse the representation of women in City-owned buildings open to public. Therefore it is irrelevant for us to use entries with both female and male. As a result, i will drop the rows with F & M.\r\n"
      ]
    },
    {
      "cell_type": "code",
      "metadata": {
        "colab": {
          "base_uri": "https://localhost:8080/",
          "height": 1000
        },
        "id": "BmC-3kYiiGQu",
        "outputId": "d6b8fde4-b34f-4bbf-8a63-9104f3dace91"
      },
      "source": [
        "#check whether a person's name has been used more than once to name a building\r\n",
        "duplicated_df = df2[df2.duplicated(['Person'] , keep = False)]\r\n",
        "print(duplicated_df.count() )\r\n",
        "duplicated_df"
      ],
      "execution_count": 26,
      "outputs": [
        {
          "output_type": "stream",
          "text": [
            "Department/Source               18\n",
            "Name                            18\n",
            "Person                          18\n",
            "Gender                          18\n",
            "Reference                       16\n",
            "Comments                         3\n",
            "Current Police Districts        18\n",
            "Current Supervisor Districts    18\n",
            "Analysis Neighborhoods          18\n",
            "Neighborhoods                   18\n",
            "SF Find Neighborhoods           18\n",
            "dtype: int64\n"
          ],
          "name": "stdout"
        },
        {
          "output_type": "execute_result",
          "data": {
            "text/html": [
              "<div>\n",
              "<style scoped>\n",
              "    .dataframe tbody tr th:only-of-type {\n",
              "        vertical-align: middle;\n",
              "    }\n",
              "\n",
              "    .dataframe tbody tr th {\n",
              "        vertical-align: top;\n",
              "    }\n",
              "\n",
              "    .dataframe thead th {\n",
              "        text-align: right;\n",
              "    }\n",
              "</style>\n",
              "<table border=\"1\" class=\"dataframe\">\n",
              "  <thead>\n",
              "    <tr style=\"text-align: right;\">\n",
              "      <th></th>\n",
              "      <th>Department/Source</th>\n",
              "      <th>Name</th>\n",
              "      <th>Person</th>\n",
              "      <th>Gender</th>\n",
              "      <th>Reference</th>\n",
              "      <th>Comments</th>\n",
              "      <th>Current Police Districts</th>\n",
              "      <th>Current Supervisor Districts</th>\n",
              "      <th>Analysis Neighborhoods</th>\n",
              "      <th>Neighborhoods</th>\n",
              "      <th>SF Find Neighborhoods</th>\n",
              "    </tr>\n",
              "  </thead>\n",
              "  <tbody>\n",
              "    <tr>\n",
              "      <th>0</th>\n",
              "      <td>Administrator</td>\n",
              "      <td>MOSCONE CENTER (South)</td>\n",
              "      <td>George R. Moscone</td>\n",
              "      <td>M</td>\n",
              "      <td>City Administrator</td>\n",
              "      <td>NaN</td>\n",
              "      <td>4</td>\n",
              "      <td>10</td>\n",
              "      <td>36</td>\n",
              "      <td>21</td>\n",
              "      <td>21</td>\n",
              "    </tr>\n",
              "    <tr>\n",
              "      <th>2</th>\n",
              "      <td>REC AND PARKS</td>\n",
              "      <td>Moscone Recreation Center</td>\n",
              "      <td>George R. Moscone</td>\n",
              "      <td>M</td>\n",
              "      <td>NaN</td>\n",
              "      <td>park</td>\n",
              "      <td>4</td>\n",
              "      <td>10</td>\n",
              "      <td>36</td>\n",
              "      <td>21</td>\n",
              "      <td>21</td>\n",
              "    </tr>\n",
              "    <tr>\n",
              "      <th>10</th>\n",
              "      <td>REC AND PARKS</td>\n",
              "      <td>De Young Museum,  Golden Gate Park</td>\n",
              "      <td>M. H. de Young</td>\n",
              "      <td>M</td>\n",
              "      <td>Newspaper</td>\n",
              "      <td>facilities and other amenities</td>\n",
              "      <td>4</td>\n",
              "      <td>10</td>\n",
              "      <td>36</td>\n",
              "      <td>21</td>\n",
              "      <td>21</td>\n",
              "    </tr>\n",
              "    <tr>\n",
              "      <th>13</th>\n",
              "      <td>Administrator</td>\n",
              "      <td>Curtis E. Green LRV Facility Geneva Site</td>\n",
              "      <td>Curtis E. Green</td>\n",
              "      <td>M</td>\n",
              "      <td>Municipal Transportation Agency</td>\n",
              "      <td>NaN</td>\n",
              "      <td>4</td>\n",
              "      <td>10</td>\n",
              "      <td>36</td>\n",
              "      <td>21</td>\n",
              "      <td>21</td>\n",
              "    </tr>\n",
              "    <tr>\n",
              "      <th>16</th>\n",
              "      <td>Administrator</td>\n",
              "      <td>Eureka Valley Branch Library/ Harvey Milk Memo...</td>\n",
              "      <td>Harvey Milk</td>\n",
              "      <td>M</td>\n",
              "      <td>Public Library</td>\n",
              "      <td>NaN</td>\n",
              "      <td>4</td>\n",
              "      <td>10</td>\n",
              "      <td>36</td>\n",
              "      <td>21</td>\n",
              "      <td>21</td>\n",
              "    </tr>\n",
              "    <tr>\n",
              "      <th>20</th>\n",
              "      <td>Administrator</td>\n",
              "      <td>H. WELTON FLYNN DIV.</td>\n",
              "      <td>H. Welton Flynn</td>\n",
              "      <td>M</td>\n",
              "      <td>Municipal Transportation Agency</td>\n",
              "      <td>NaN</td>\n",
              "      <td>4</td>\n",
              "      <td>10</td>\n",
              "      <td>36</td>\n",
              "      <td>21</td>\n",
              "      <td>21</td>\n",
              "    </tr>\n",
              "    <tr>\n",
              "      <th>22</th>\n",
              "      <td>Administrator</td>\n",
              "      <td>Flynn Tire Shop</td>\n",
              "      <td>H. Welton Flynn</td>\n",
              "      <td>M</td>\n",
              "      <td>Municipal Transportation Agency</td>\n",
              "      <td>NaN</td>\n",
              "      <td>4</td>\n",
              "      <td>10</td>\n",
              "      <td>36</td>\n",
              "      <td>21</td>\n",
              "      <td>21</td>\n",
              "    </tr>\n",
              "    <tr>\n",
              "      <th>31</th>\n",
              "      <td>REC AND PARKS</td>\n",
              "      <td>Harvey Milk Center for Recreational Arts, Dubo...</td>\n",
              "      <td>Harvey Milk</td>\n",
              "      <td>M</td>\n",
              "      <td>NaN</td>\n",
              "      <td>facilities and other amenities</td>\n",
              "      <td>4</td>\n",
              "      <td>10</td>\n",
              "      <td>36</td>\n",
              "      <td>21</td>\n",
              "      <td>21</td>\n",
              "    </tr>\n",
              "    <tr>\n",
              "      <th>38</th>\n",
              "      <td>Administrator</td>\n",
              "      <td>Harvey Milk Terminal  - Terminal 1</td>\n",
              "      <td>Harvey Milk</td>\n",
              "      <td>M</td>\n",
              "      <td>Airport (Sfo)</td>\n",
              "      <td>NaN</td>\n",
              "      <td>4</td>\n",
              "      <td>10</td>\n",
              "      <td>36</td>\n",
              "      <td>21</td>\n",
              "      <td>21</td>\n",
              "    </tr>\n",
              "    <tr>\n",
              "      <th>42</th>\n",
              "      <td>Administrator</td>\n",
              "      <td>Moscone West</td>\n",
              "      <td>George R. Moscone</td>\n",
              "      <td>M</td>\n",
              "      <td>City Administrator</td>\n",
              "      <td>NaN</td>\n",
              "      <td>4</td>\n",
              "      <td>10</td>\n",
              "      <td>36</td>\n",
              "      <td>21</td>\n",
              "      <td>21</td>\n",
              "    </tr>\n",
              "    <tr>\n",
              "      <th>44</th>\n",
              "      <td>Administrator</td>\n",
              "      <td>J. Woods Cable Car Carpentry Shop</td>\n",
              "      <td>J. M. Woods</td>\n",
              "      <td>M</td>\n",
              "      <td>Municipal Transportation Agency</td>\n",
              "      <td>NaN</td>\n",
              "      <td>4</td>\n",
              "      <td>10</td>\n",
              "      <td>36</td>\n",
              "      <td>21</td>\n",
              "      <td>21</td>\n",
              "    </tr>\n",
              "    <tr>\n",
              "      <th>46</th>\n",
              "      <td>Administrator</td>\n",
              "      <td>Moscone Esplanade Ballroom</td>\n",
              "      <td>George R. Moscone</td>\n",
              "      <td>M</td>\n",
              "      <td>City Administrator</td>\n",
              "      <td>NaN</td>\n",
              "      <td>4</td>\n",
              "      <td>10</td>\n",
              "      <td>36</td>\n",
              "      <td>21</td>\n",
              "      <td>21</td>\n",
              "    </tr>\n",
              "    <tr>\n",
              "      <th>50</th>\n",
              "      <td>Administrator</td>\n",
              "      <td>J.M. Woods Div-Wash/Warehouse</td>\n",
              "      <td>J. M. Woods</td>\n",
              "      <td>M</td>\n",
              "      <td>Municipal Transportation Agency</td>\n",
              "      <td>NaN</td>\n",
              "      <td>4</td>\n",
              "      <td>10</td>\n",
              "      <td>36</td>\n",
              "      <td>21</td>\n",
              "      <td>21</td>\n",
              "    </tr>\n",
              "    <tr>\n",
              "      <th>52</th>\n",
              "      <td>Administrator</td>\n",
              "      <td>De Young Museum</td>\n",
              "      <td>M. H. de Young</td>\n",
              "      <td>M</td>\n",
              "      <td>Fine Arts Museums</td>\n",
              "      <td>NaN</td>\n",
              "      <td>4</td>\n",
              "      <td>10</td>\n",
              "      <td>36</td>\n",
              "      <td>21</td>\n",
              "      <td>21</td>\n",
              "    </tr>\n",
              "    <tr>\n",
              "      <th>70</th>\n",
              "      <td>Administrator</td>\n",
              "      <td>J.M. Woods Div-Operators</td>\n",
              "      <td>J. M. Woods</td>\n",
              "      <td>M</td>\n",
              "      <td>Municipal Transportation Agency</td>\n",
              "      <td>NaN</td>\n",
              "      <td>4</td>\n",
              "      <td>10</td>\n",
              "      <td>36</td>\n",
              "      <td>21</td>\n",
              "      <td>21</td>\n",
              "    </tr>\n",
              "    <tr>\n",
              "      <th>76</th>\n",
              "      <td>Administrator</td>\n",
              "      <td>MOSCONE NORTH</td>\n",
              "      <td>George R. Moscone</td>\n",
              "      <td>M</td>\n",
              "      <td>City Administrator</td>\n",
              "      <td>NaN</td>\n",
              "      <td>4</td>\n",
              "      <td>10</td>\n",
              "      <td>36</td>\n",
              "      <td>21</td>\n",
              "      <td>21</td>\n",
              "    </tr>\n",
              "    <tr>\n",
              "      <th>77</th>\n",
              "      <td>Administrator</td>\n",
              "      <td>MOSCONE CENTER Parking Garage</td>\n",
              "      <td>George R. Moscone</td>\n",
              "      <td>M</td>\n",
              "      <td>Municipal Transportation Agency</td>\n",
              "      <td>NaN</td>\n",
              "      <td>4</td>\n",
              "      <td>10</td>\n",
              "      <td>36</td>\n",
              "      <td>21</td>\n",
              "      <td>21</td>\n",
              "    </tr>\n",
              "    <tr>\n",
              "      <th>80</th>\n",
              "      <td>Administrator</td>\n",
              "      <td>Curtis E. Green LRV Facility Annex Bldg</td>\n",
              "      <td>Curtis E. Green</td>\n",
              "      <td>M</td>\n",
              "      <td>Municipal Transportation Agency</td>\n",
              "      <td>NaN</td>\n",
              "      <td>4</td>\n",
              "      <td>10</td>\n",
              "      <td>36</td>\n",
              "      <td>21</td>\n",
              "      <td>21</td>\n",
              "    </tr>\n",
              "  </tbody>\n",
              "</table>\n",
              "</div>"
            ],
            "text/plain": [
              "   Department/Source  ... SF Find Neighborhoods\n",
              "0      Administrator  ...                    21\n",
              "2      REC AND PARKS  ...                    21\n",
              "10     REC AND PARKS  ...                    21\n",
              "13     Administrator  ...                    21\n",
              "16     Administrator  ...                    21\n",
              "20     Administrator  ...                    21\n",
              "22     Administrator  ...                    21\n",
              "31     REC AND PARKS  ...                    21\n",
              "38     Administrator  ...                    21\n",
              "42     Administrator  ...                    21\n",
              "44     Administrator  ...                    21\n",
              "46     Administrator  ...                    21\n",
              "50     Administrator  ...                    21\n",
              "52     Administrator  ...                    21\n",
              "70     Administrator  ...                    21\n",
              "76     Administrator  ...                    21\n",
              "77     Administrator  ...                    21\n",
              "80     Administrator  ...                    21\n",
              "\n",
              "[18 rows x 11 columns]"
            ]
          },
          "metadata": {
            "tags": []
          },
          "execution_count": 26
        }
      ]
    },
    {
      "cell_type": "code",
      "metadata": {
        "colab": {
          "base_uri": "https://localhost:8080/"
        },
        "id": "yYQ2_k6Oj0h9",
        "outputId": "3af7adba-2a5c-4d8c-ea27-fc228fee6c8a"
      },
      "source": [
        "#diplay the names of the person that have been used more than once\r\n",
        "duplicated_df['Person'].unique()"
      ],
      "execution_count": 27,
      "outputs": [
        {
          "output_type": "execute_result",
          "data": {
            "text/plain": [
              "array(['George R. Moscone', 'M. H. de Young', 'Curtis E. Green',\n",
              "       'Harvey Milk', 'H. Welton Flynn', 'J. M. Woods'], dtype=object)"
            ]
          },
          "metadata": {
            "tags": []
          },
          "execution_count": 27
        }
      ]
    },
    {
      "cell_type": "markdown",
      "metadata": {
        "id": "ELAdC8sslFZv"
      },
      "source": [
        "* all these  6 are male\r\n",
        "* majority are from administrator department"
      ]
    },
    {
      "cell_type": "code",
      "metadata": {
        "colab": {
          "base_uri": "https://localhost:8080/",
          "height": 602
        },
        "id": "gwa4CLnjYY3a",
        "outputId": "61775acb-507e-432e-a101-5fbc67f8cf85"
      },
      "source": [
        "#gender distribution according to references\r\n",
        "fig = plt.figure(figsize = (10,10))\r\n",
        "ax = sns.countplot(y = \"Reference\", hue = \"Gender\", data = df2, palette= 'Set3')\r\n",
        "plt.xticks(rotation = 90)\r\n",
        "plt.legend(loc = 'lower right')\r\n",
        "plt.show()"
      ],
      "execution_count": 81,
      "outputs": [
        {
          "output_type": "display_data",
          "data": {
            "image/png": "[encoded data removed]",
            "text/plain": [
              "<Figure size 720x720 with 1 Axes>"
            ]
          },
          "metadata": {
            "tags": [],
            "needs_background": "light"
          }
        }
      ]
    },
    {
      "cell_type": "markdown",
      "metadata": {
        "id": "JtZjkjiIf-YE"
      },
      "source": [
        "The following list of type of buildings have well representation of both genders:\r\n",
        "* Davies Symphony Hall, \r\n",
        "* Public Library,\r\n",
        "* Veterans Building, \r\n",
        "* Port, \r\n",
        "* Pulic works \r\n",
        "Arts commision and War memorial Opera House are represented by female names only"
      ]
    },
    {
      "cell_type": "markdown",
      "metadata": {
        "id": "9UTqb5lPhOLm"
      },
      "source": [
        "**We can therefore say with certainty that female representaion in the naming of buildings in San Frasisco is low compared to that of Male**"
      ]
    }
  ]
}